{
  "nbformat": 4,
  "nbformat_minor": 0,
  "metadata": {
    "colab": {
      "name": "TensorflowResearchPaper.ipynb",
      "provenance": [],
      "collapsed_sections": [],
      "include_colab_link": true
    },
    "kernelspec": {
      "display_name": "Python 3",
      "language": "python",
      "name": "python3"
    },
    "language_info": {
      "codemirror_mode": {
        "name": "ipython",
        "version": 3
      },
      "file_extension": ".py",
      "mimetype": "text/x-python",
      "name": "python",
      "nbconvert_exporter": "python",
      "pygments_lexer": "ipython3",
      "version": "3.8.5"
    },
    "accelerator": "GPU"
  },
  "cells": [
    {
      "cell_type": "markdown",
      "metadata": {
        "id": "view-in-github",
        "colab_type": "text"
      },
      "source": [
        "<a href=\"https://colab.research.google.com/github/Visvaldis/diploma/blob/main/TensorflowResearchPaper.ipynb\" target=\"_parent\"><img src=\"https://colab.research.google.com/assets/colab-badge.svg\" alt=\"Open In Colab\"/></a>"
      ]
    },
    {
      "cell_type": "markdown",
      "metadata": {
        "id": "rdxCO-x_rw4A"
      },
      "source": [
        "## Imports"
      ]
    },
    {
      "cell_type": "code",
      "metadata": {
        "id": "bJlAUVD_bp57",
        "scrolled": false
      },
      "source": [
        "import pandas as pd\n",
        "import numpy as np\n",
        "import os\n",
        "import tensorflow as tf\n",
        "import cv2\n",
        "from tensorflow import keras\n",
        "from tensorflow.keras import datasets, layers, models\n",
        "from keras.models import Sequential\n",
        "from keras.layers import Conv2D, MaxPooling2D\n",
        "from keras.layers import Activation, Dropout, Flatten, Dense\n",
        "import tensorflow_datasets as tfds\n",
        "from matplotlib import pyplot as plt\n",
        "import PIL\n",
        "from keras.callbacks import ModelCheckpoint, EarlyStopping, TensorBoard\n",
        "from datetime import datetime\n",
        "\n",
        "%matplotlib inline\n",
        "%load_ext tensorboard\n",
        "from PIL import Image\n",
        "from matplotlib import cm\n",
        "import keras.backend as K\n",
        "\n",
        "import sys,os\n",
        "import json\n",
        "import matplotlib.image as mpimg\n",
        "from PIL import Image, ImageDraw\n",
        "\n",
        "import tensorflow_hub as hub"
      ],
      "execution_count": null,
      "outputs": []
    },
    {
      "cell_type": "markdown",
      "metadata": {
        "id": "d82a5bBWr29E"
      },
      "source": [
        "\n",
        "## Env setup (gdrive mount and dataset build) \n",
        "### ***Skip, if local***"
      ]
    },
    {
      "cell_type": "code",
      "metadata": {
        "id": "mK89K4JLr1BD"
      },
      "source": [
        "from google.colab import drive\n",
        "drive.mount(\"/content/gdrive\")"
      ],
      "execution_count": null,
      "outputs": []
    },
    {
      "cell_type": "code",
      "metadata": {
        "id": "_ZwHjdF5jmyQ"
      },
      "source": [
        "!dir\n",
        "%cd gdrive/MyDrive/FIG/Dataset/build/auto_cracks_dataset\n",
        "#%cd /content/gdrive/MyDrive/Legendari/FIG/Dataset/my_dataset\n",
        "!dir "
      ],
      "execution_count": null,
      "outputs": []
    },
    {
      "cell_type": "code",
      "metadata": {
        "id": "Im6YINXticEQ"
      },
      "source": [
        "gpu_info = !nvidia-smi\n",
        "gpu_info = '\\n'.join(gpu_info)\n",
        "if gpu_info.find('failed') >= 0:\n",
        "  print('Select the Runtime > \"Change runtime type\" menu to enable a GPU accelerator, ')\n",
        "  print('and then re-execute this cell.')\n",
        "else:\n",
        "  print(gpu_info)"
      ],
      "execution_count": null,
      "outputs": []
    },
    {
      "cell_type": "markdown",
      "metadata": {
        "id": "agmEXCfStX31"
      },
      "source": [
        "## Dataset info\n"
      ]
    },
    {
      "cell_type": "code",
      "metadata": {
        "id": "Rfz0n7HPV4R8"
      },
      "source": [
        "data_dir = os.path.normpath(\"/content/gdrive/MyDrive/FIG/Dataset/build\")\n",
        "data_dir"
      ],
      "execution_count": null,
      "outputs": []
    },
    {
      "cell_type": "code",
      "metadata": {
        "id": "jJv-vHwyrvw_"
      },
      "source": [
        "(train_dataset, val_dataset, test_dataset), metadata = tfds.load(\n",
        "    'auto_cracks_dataset',\n",
        "    data_dir=data_dir,\n",
        "    split=['train[:80%]', 'train[80%:90%]', 'train[90%:]'],\n",
        "    with_info=True,\n",
        "    as_supervised=True\n",
        ")\n"
      ],
      "execution_count": null,
      "outputs": []
    },
    {
      "cell_type": "markdown",
      "metadata": {
        "id": "qz1lQIPNa1yd"
      },
      "source": [
        "## Helper functions and constants"
      ]
    },
    {
      "cell_type": "code",
      "metadata": {
        "id": "D8FXjTFpq0P0",
        "scrolled": true
      },
      "source": [
        "%cd ..\n",
        "%cd ..\n",
        "%cd ..\n",
        "%cd Models/\n",
        "!dir"
      ],
      "execution_count": null,
      "outputs": []
    },
    {
      "cell_type": "code",
      "metadata": {
        "id": "SLdozd17gdcx"
      },
      "source": [
        "%mkdir prod\n",
        "%cd prod\n"
      ],
      "execution_count": null,
      "outputs": []
    },
    {
      "cell_type": "code",
      "metadata": {
        "id": "o_ZoJKa5E4sX",
        "scrolled": true
      },
      "source": [
        "IMG_SIZE = 224\n",
        "num_classes = metadata.features['label'].num_classes"
      ],
      "execution_count": null,
      "outputs": []
    },
    {
      "cell_type": "code",
      "metadata": {
        "id": "YH-TK1Ega1yd"
      },
      "source": [
        "get_label_name = metadata.features['label'].int2str\n",
        "def show_imgs(ds, count = 3):\n",
        "    itr = iter(ds)\n",
        "    plt.figure(figsize=(10, 10))\n",
        "    for i in range(count**2):\n",
        "        image, label = next(itr)\n",
        "        ax = plt.subplot(count, count, i + 1)\n",
        "        plt.imshow(image)\n",
        "        plt.title(get_label_name(label))\n",
        "        plt.axis(\"off\")\n"
      ],
      "execution_count": null,
      "outputs": []
    },
    {
      "cell_type": "code",
      "metadata": {
        "id": "3UwPdTm1gdcy"
      },
      "source": [
        "def show_imgs_only_one_class(ds, class_name, count = 3):\n",
        "    itr = iter(ds)\n",
        "    plt.figure(figsize=(10, 10))\n",
        "    for i in range(count**2):\n",
        "        image, label = next(itr)\n",
        "        while get_label_name(label) != class_name:\n",
        "            image, label = next(itr)\n",
        "            \n",
        "        ax = plt.subplot(count, count, i + 1)\n",
        "        plt.imshow(image)\n",
        "        plt.title(str(get_label_name(label)))\n",
        "        plt.axis(\"off\")"
      ],
      "execution_count": null,
      "outputs": []
    },
    {
      "cell_type": "code",
      "metadata": {
        "id": "F5IYr4oA1SME",
        "scrolled": true
      },
      "source": [
        "show_imgs(test_dataset)"
      ],
      "execution_count": null,
      "outputs": []
    },
    {
      "cell_type": "code",
      "metadata": {
        "id": "Jzmg5jA8gdcz"
      },
      "source": [
        "show_imgs_only_one_class(val_dataset, 'Replacement')"
      ],
      "execution_count": null,
      "outputs": []
    },
    {
      "cell_type": "code",
      "metadata": {
        "id": "dohfsipVgdcz"
      },
      "source": [
        "show_imgs_only_one_class(val_dataset, 'Repair')"
      ],
      "execution_count": null,
      "outputs": []
    },
    {
      "cell_type": "code",
      "metadata": {
        "id": "Ydt658sxa1ye"
      },
      "source": [
        "def get_callbacks(directory):\n",
        "    callbacks = [\n",
        "    ModelCheckpoint(\n",
        "        filepath= os.path.join(directory, 'checkpoints'),\n",
        "        verbose=1, \n",
        "        save_best_only=True\n",
        "    ),\n",
        "    EarlyStopping(\n",
        "        # Stop training when `val_loss` is no longer improving\n",
        "        monitor=\"val_loss\",\n",
        "        # \"no longer improving\" being defined as \"no better than 1e-2 less\"\n",
        "        min_delta=1e-2,\n",
        "        # \"no longer improving\" being further defined as \"for at least 2 epochs\"\n",
        "        patience=30,\n",
        "        verbose=1,\n",
        "    ),\n",
        "    TensorBoard(\n",
        "        log_dir=os.path.join(directory, 'tensorboard_log'),\n",
        "        histogram_freq=1,  # How often to log histogram visualizations\n",
        "        embeddings_freq=0,  # How often to log embedding visualizations\n",
        "        update_freq=\"epoch\",\n",
        "    )  # How often to write logs (default: once per epoch)\n",
        "\n",
        "    ]\n",
        "    return callbacks"
      ],
      "execution_count": null,
      "outputs": []
    },
    {
      "cell_type": "code",
      "metadata": {
        "id": "z3VNoKUZa1ye"
      },
      "source": [
        "def train(model, train_ds, val_ds, test_ds, batch_size, epochs, add_info, show_TensorBoard = True):\n",
        "    #directory = datetime.now().strftime(\"%Y-%m-%d %H:%M\") +'_'+ model.name\n",
        "    directory = model.name + '_' + add_info\n",
        "    callbacks = get_callbacks(directory)\n",
        "    history =  model.fit(train_ds, epochs=epochs, batch_size=batch_size,\n",
        "                    validation_data=val_ds, callbacks=callbacks)\n",
        "    model.save(os.path.join(directory, 'trained_model'))\n",
        "    print(\"Model saved at path \", os.path.join(directory, 'trained_model'))\n",
        "    if show_TensorBoard:\n",
        "        %tensorboard --logdir {os.path.join(directory, 'tensorboard_log')}\n",
        "        \n",
        "    loss, acc = model.evaluate(test_ds)\n",
        "    print(\"Test Accuracy\", acc)\n",
        "    print(\"Test Loss\", loss)\n",
        "    print(\"____________________________\")\n",
        "    return os.path.join(directory, 'tensorboard_log')"
      ],
      "execution_count": null,
      "outputs": []
    },
    {
      "cell_type": "code",
      "metadata": {
        "id": "OI1rHIl0a1yj"
      },
      "source": [
        "def get_uncompile_model():\n",
        "    model = models.Sequential()\n",
        "    model.add(layers.Conv2D(32, (3, 3), activation='relu', input_shape=(IMG_SIZE , IMG_SIZE, 3)))\n",
        "    model.add(layers.MaxPooling2D((2, 2)))\n",
        "    model.add(layers.Conv2D(64, (3, 3), activation='relu'))\n",
        "    model.add(layers.MaxPooling2D((2, 2)))\n",
        "    model.add(layers.Conv2D(64, (3, 3), activation='relu'))\n",
        "\n",
        "    model.add(Flatten())  # this converts our 3D feature maps to 1D feature vectors\n",
        "    model.add(Dense(128))\n",
        "    model.add(Activation('relu'))\n",
        "    model.add(Dropout(0.5))\n",
        "    model.add(Dense(128))\n",
        "    model.add(Activation('relu'))\n",
        "    model.add(Dropout(0.5))\n",
        "    model.add(Dense(num_classes, activation= 'sigmoid'))\n",
        "    return model"
      ],
      "execution_count": null,
      "outputs": []
    },
    {
      "cell_type": "code",
      "metadata": {
        "id": "pVeaVYLIgc12"
      },
      "source": [
        "def get_uncompile_vgg_model():\n",
        "    model = models.Sequential()\n",
        "    model.add(Conv2D(16, kernel_size=(3,3), padding= 'same', activation= 'relu', input_shape=(IMG_SIZE , IMG_SIZE, 3)))\n",
        "    model.add(Conv2D(16, kernel_size=(3,3), padding= 'same',activation= 'relu'))\n",
        "    model.add(MaxPooling2D(pool_size=(2,2), strides= (2,2)))\n",
        "\n",
        "    model.add(Conv2D(32, kernel_size=(3,3), padding= 'same', activation= 'relu'))\n",
        "    model.add(Conv2D(32, kernel_size=(3,3), padding= 'same', activation= 'relu'))\n",
        "    model.add(MaxPooling2D(pool_size=(2,2), strides= (2,2)))\n",
        "\n",
        "    model.add(Conv2D(64, kernel_size=(3,3), padding= 'same', activation= 'relu'))\n",
        "    model.add(Conv2D(64, kernel_size=(3,3), padding= 'same', activation= 'relu'))\n",
        "    model.add(Conv2D(64, kernel_size=(3,3), padding= 'same', activation= 'relu'))\n",
        "    model.add(Conv2D(64, kernel_size=(3,3), padding= 'same', activation= 'relu'))\n",
        "    model.add(MaxPooling2D(pool_size=(2,2), strides= (2,2)))\n",
        "\n",
        "    model.add(Conv2D(128, kernel_size=(3,3), padding= 'same', activation= 'relu'))\n",
        "    model.add(Conv2D(128, kernel_size=(3,3), padding= 'same', activation= 'relu'))\n",
        "    model.add(Conv2D(128, kernel_size=(3,3), padding= 'same', activation= 'relu'))\n",
        "    model.add(Conv2D(128, kernel_size=(3,3), padding= 'same', activation= 'relu'))\n",
        "    model.add(MaxPooling2D(pool_size=(2,2), strides= (2,2)))\n",
        "\n",
        "    model.add(Conv2D(128, kernel_size=(3,3), padding= 'same', activation= 'relu'))\n",
        "    model.add(Conv2D(128, kernel_size=(3,3), padding= 'same', activation= 'relu'))\n",
        "    model.add(Conv2D(128, kernel_size=(3,3), padding= 'same', activation= 'relu'))\n",
        "    model.add(Conv2D(128, kernel_size=(3,3), padding= 'same', activation= 'relu'))\n",
        "    model.add(MaxPooling2D(pool_size=(2,2), strides= (2,2)))\n",
        "\n",
        "    model.add(Flatten())\n",
        "    model.add(Dense(128, activation= 'relu'))\n",
        "    model.add(Dropout(0.5))\n",
        "    model.add(Dense(64, activation= 'relu'))\n",
        "    model.add(Dropout(0.5))\n",
        "    model.add(Dense(32, activation= 'relu'))\n",
        "    model.add(Dropout(0.5))\n",
        "    model.add(Dense(num_classes, activation= 'sigmoid'))\n",
        "    return model"
      ],
      "execution_count": null,
      "outputs": []
    },
    {
      "cell_type": "markdown",
      "metadata": {
        "id": "PMTwEWbMdxKB"
      },
      "source": [
        "![image.png](data:image/png;base64,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)"
      ]
    },
    {
      "cell_type": "code",
      "metadata": {
        "id": "4D6LxF_aa1yf"
      },
      "source": [
        ""
      ],
      "execution_count": null,
      "outputs": []
    },
    {
      "cell_type": "markdown",
      "metadata": {
        "id": "wvSuRv2xa1yf"
      },
      "source": [
        "## [Image Data Augmentation](https://www.tensorflow.org/tutorials/images/data_augmentation)"
      ]
    },
    {
      "cell_type": "code",
      "metadata": {
        "id": "zAfO0OLya1yf"
      },
      "source": [
        "AUTOTUNE = tf.data.AUTOTUNE\n",
        "#NEW_IMG_SIZE = 180"
      ],
      "execution_count": null,
      "outputs": []
    },
    {
      "cell_type": "code",
      "metadata": {
        "id": "bAfdzsIFa1yf"
      },
      "source": [
        "def resize_and_rescale(image, label):\n",
        "    image = tf.cast(image, tf.float32)\n",
        "    image = tf.image.resize(image, [IMG_SIZE, IMG_SIZE])\n",
        "    image = (image / 255.0)\n",
        "    return image, label"
      ],
      "execution_count": null,
      "outputs": []
    },
    {
      "cell_type": "code",
      "metadata": {
        "id": "d1uNsLjwa1yf"
      },
      "source": [
        "def augment(image_label, seed):\n",
        "    image, label = image_label\n",
        "    \n",
        "    image, label = resize_and_rescale(image, label)\n",
        "    # Make a new seed\n",
        "    new_seed = tf.random.experimental.stateless_split(seed, num=1)[0, :]\n",
        "    \n",
        "    #randomly_change_image_contrast\n",
        "    image = tf.image.stateless_random_contrast(\n",
        "        image, lower=0.3, upper=0.7, seed=new_seed)\n",
        "    \n",
        "    #randomly_change_image_brightness\n",
        "    image = tf.image.stateless_random_brightness(\n",
        "        image, max_delta=0.5, seed=new_seed)\n",
        "    \n",
        "    #randomly_flip_image\n",
        "    image = tf.image.stateless_random_flip_left_right(\n",
        "        image, seed=new_seed)\n",
        "    \n",
        "    image = tf.image.stateless_random_flip_up_down(\n",
        "        image, seed=new_seed)\n",
        "   \n",
        "    image = tf.clip_by_value(image, 0, 1)\n",
        "    return image, label"
      ],
      "execution_count": null,
      "outputs": []
    },
    {
      "cell_type": "code",
      "metadata": {
        "id": "_USL95ica1yg"
      },
      "source": [
        "resize_and_rescaleModel = tf.keras.Sequential([\n",
        "  layers.experimental.preprocessing.Resizing(IMG_SIZE, IMG_SIZE),\n",
        "  layers.experimental.preprocessing.Rescaling(1./255)\n",
        "])\n"
      ],
      "execution_count": null,
      "outputs": []
    },
    {
      "cell_type": "code",
      "metadata": {
        "id": "MC57nMjAkjM9"
      },
      "source": [
        "def get_augmented_data(train_data, val_data, test_data, batch_size):\n",
        "    counter = tf.data.experimental.Counter()\n",
        "    train_ds = tf.data.Dataset.zip((train_data, (counter, counter)))\n",
        "    train_ds = (\n",
        "        train_ds\n",
        "        .shuffle(1000)\n",
        "        .map(augment, num_parallel_calls=AUTOTUNE)\n",
        "        .batch(batch_size)\n",
        "        .prefetch(AUTOTUNE)\n",
        "    )\n",
        "    val_ds = (\n",
        "        val_data\n",
        "        .map(resize_and_rescale, num_parallel_calls=AUTOTUNE)\n",
        "        .batch(batch_size)\n",
        "        .prefetch(AUTOTUNE)\n",
        "    ) \n",
        "    test_ds = (\n",
        "        test_data\n",
        "        .map(resize_and_rescale, num_parallel_calls=AUTOTUNE)\n",
        "        .batch(batch_size)\n",
        "        .prefetch(AUTOTUNE)\n",
        "    )\n",
        "    return train_ds, val_ds, test_ds \n",
        "\n",
        "def get_augmented_data_(train_data, val_data, test_data, batch_size):\n",
        "  train_ds = train_data.map(lambda x, y: (resize_and_rescaleModel(x, training=True), y))\n",
        "  val_ds = val_data.map(lambda x, y: (resize_and_rescaleModel(x, training=True), y))\n",
        "  test_ds = test_data.map(lambda x, y: (resize_and_rescaleModel(x, training=True), y))\n",
        " \n",
        "  return train_ds, val_ds, test_ds \n",
        "\n"
      ],
      "execution_count": null,
      "outputs": []
    },
    {
      "cell_type": "markdown",
      "metadata": {
        "id": "nLROJJf4a1yg"
      },
      "source": [
        "## Lets do it"
      ]
    },
    {
      "cell_type": "code",
      "metadata": {
        "id": "kmSHR621gdc7"
      },
      "source": [
        "epochs_count = 60\n",
        "batch_size = 64"
      ],
      "execution_count": null,
      "outputs": []
    },
    {
      "cell_type": "markdown",
      "metadata": {
        "id": "510-JzjwwlxL"
      },
      "source": [
        "#### My VGG augmented"
      ]
    },
    {
      "cell_type": "code",
      "metadata": {
        "id": "fgl59iiaa1yh"
      },
      "source": [
        "modelSimple = get_uncompile_vgg_model()\n",
        "train_ds, val_ds, test_ds = get_augmented_data(train_data=train_dataset, \n",
        "                                               val_data=val_dataset, test_data=test_dataset, batch_size=batch_size)\n",
        "\n",
        "modelSimple.compile(optimizer='adam',\n",
        "              loss=tf.keras.losses.SparseCategoricalCrossentropy(from_logits=True),\n",
        "                  metrics=['accuracy'])"
      ],
      "execution_count": null,
      "outputs": []
    },
    {
      "cell_type": "code",
      "metadata": {
        "id": "GkDbv3CSa1yi"
      },
      "source": [
        "\n",
        "tensorboard_path = train(modelSimple, train_ds=train_ds, val_ds=val_ds, test_ds=test_ds, \n",
        "                     epochs=epochs_count,  batch_size=batch_size, add_info='my_vgg_aug' )"
      ],
      "execution_count": null,
      "outputs": []
    },
    {
      "cell_type": "code",
      "metadata": {
        "id": "TfvEaXunLkJi"
      },
      "source": [
        "%tensorboard --logdir {tensorboard_path}"
      ],
      "execution_count": null,
      "outputs": []
    },
    {
      "cell_type": "code",
      "metadata": {
        "id": "94e1Wxd0gdc7"
      },
      "source": [
        ""
      ],
      "execution_count": null,
      "outputs": []
    },
    {
      "cell_type": "code",
      "metadata": {
        "id": "jFz8hd6Cgdc8"
      },
      "source": [
        "train_ds, val_ds, test_ds = get_augmented_data(train_data=train_dataset, \n",
        "                                               val_data=val_dataset, test_data=test_dataset, batch_size=batch_size)"
      ],
      "execution_count": null,
      "outputs": []
    },
    {
      "cell_type": "code",
      "metadata": {
        "id": "x8mHfxrYaRu2"
      },
      "source": [
        "#VGG-19\n",
        "model3 = tf.keras.applications.VGG19(\n",
        "    include_top=True, weights=None, input_tensor=None,\n",
        "    input_shape=None, pooling=None, classes=num_classes ,\n",
        "    classifier_activation='sigmoid'\n",
        ")\n",
        "# COMPILE\n",
        "model3.compile(optimizer='adam',\n",
        "              loss=tf.keras.losses.SparseCategoricalCrossentropy(from_logits=True),\n",
        "              metrics=['accuracy'])"
      ],
      "execution_count": null,
      "outputs": []
    },
    {
      "cell_type": "code",
      "metadata": {
        "scrolled": false,
        "id": "t4JBX361gdc8"
      },
      "source": [
        "model3_path = train(model3, train_ds=train_ds, val_ds=val_ds, test_ds=test_ds, \n",
        "                     epochs=epochs_count,  batch_size=batch_size, add_info='vgg' )"
      ],
      "execution_count": null,
      "outputs": []
    },
    {
      "cell_type": "code",
      "metadata": {
        "id": "5SsZCObrgdc9"
      },
      "source": [
        "%tensorboard --logdir {model3_path}"
      ],
      "execution_count": null,
      "outputs": []
    },
    {
      "cell_type": "code",
      "metadata": {
        "id": "5vBvxuyogdc9"
      },
      "source": [
        ""
      ],
      "execution_count": null,
      "outputs": []
    },
    {
      "cell_type": "code",
      "metadata": {
        "id": "yWkYdfmWgdc9"
      },
      "source": [
        ""
      ],
      "execution_count": null,
      "outputs": []
    },
    {
      "cell_type": "markdown",
      "metadata": {
        "id": "5rURhQbZEeQu"
      },
      "source": [
        "## Model creating"
      ]
    },
    {
      "cell_type": "code",
      "metadata": {
        "id": "NiTebfA3a1yi"
      },
      "source": [
        ""
      ],
      "execution_count": null,
      "outputs": []
    },
    {
      "cell_type": "code",
      "metadata": {
        "id": "FOBS3wDfa1yi"
      },
      "source": [
        "optimisers = [\n",
        "    (tf.keras.optimizers.Adam, 'adam'),\n",
        "    (tf.keras.optimizers.Adamax, 'adamax'),\n",
        "    (tf.keras.optimizers.Adagrad, 'adagrad'),\n",
        "    (tf.keras.optimizers.Adadelta, 'adadelta'),\n",
        "    (tf.keras.optimizers.SGD, 'sgd'),\n",
        "    (tf.keras.optimizers.Nadam, 'nadam')\n",
        "    ]\n",
        "learning_rates = [1E-1, 1E-2, 1E-3, 1E-4, 1E-5, 1E-6]\n",
        "batch_sizes = [256, 128, 64, 32]"
      ],
      "execution_count": null,
      "outputs": []
    },
    {
      "cell_type": "code",
      "metadata": {
        "id": "lO7VLmaka1yj"
      },
      "source": [
        "for optimiser, optimiser_name in optimisers:\n",
        "    for learning_rate in learning_rates:\n",
        "        for batch in batch_sizes:\n",
        "            K.clear_session()\n",
        "            model = get_uncompile_model()\n",
        "            train_ds, val_ds, test_ds = get_augmented_data(train_data=train_dataset, \n",
        "                                                           val_data=val_dataset, test_data=test_dataset, batch_size=batch)\n",
        "\n",
        "            model.compile(optimizer=optimiser(learning_rate=learning_rate),\n",
        "                  loss=tf.keras.losses.SparseCategoricalCrossentropy(from_logits=True),\n",
        "                  metrics=['accuracy'])\n",
        "            add_info = optimiser_name + '_' + str(learning_rate) +'_'+str(batch)\n",
        "            print(add_info)\n",
        "            history = train(model, train_ds=train_ds, val_ds=val_ds, test_ds=test_ds, \n",
        "                     epochs=epochs_count,  batch_size=batch, add_info=add_info)\n",
        "            "
      ],
      "execution_count": null,
      "outputs": []
    },
    {
      "cell_type": "code",
      "metadata": {
        "id": "LMuelnWFgdc_"
      },
      "source": [
        "def getFullPath(path):\n",
        "    return os.path.join(os.getcwd(), path)"
      ],
      "execution_count": null,
      "outputs": []
    },
    {
      "cell_type": "code",
      "metadata": {
        "id": "56VRObvkgddA"
      },
      "source": [
        ""
      ],
      "execution_count": null,
      "outputs": []
    },
    {
      "cell_type": "markdown",
      "metadata": {
        "id": "n2Xvb_sY6iMp"
      },
      "source": [
        "## Pretrained\n"
      ]
    },
    {
      "cell_type": "code",
      "metadata": {
        "id": "EC4ZsfxegddA"
      },
      "source": [
        "# ================================================= #\n",
        "#                Pretrained Hub Model               #\n",
        "# ================================================= #\n",
        "\n",
        "# Random data for demonstration (3 examples w. 3 classes)\n",
        "x = tf.random.normal(shape=(3, 299, 299, 3))\n",
        "y = tf.constant([0, 1, 2])\n",
        "\n",
        "url = \"https://tfhub.dev/google/imagenet/inception_v3/feature_vector/4\"\n",
        "\n",
        "base_model = hub.KerasLayer(url, input_shape=(224, 224, 3))\n",
        "model = keras.Sequential(\n",
        "    [\n",
        "        base_model,\n",
        "        layers.Dense(128, activation=\"relu\"),\n",
        "        layers.Dense(64, activation=\"relu\"),\n",
        "        layers.Dense(num_classes),\n",
        "    ]\n",
        ")\n",
        "\n",
        "model.compile(\n",
        "    optimizer=keras.optimizers.Adam(),\n",
        "    loss=keras.losses.SparseCategoricalCrossentropy(from_logits=True),\n",
        "    metrics=[\"accuracy\"],\n",
        ")\n",
        "\n",
        "train_ds, val_ds, test_ds = get_augmented_data(train_data=train_dataset, \n",
        "                                               val_data=val_dataset, test_data=test_dataset, batch_size=32)\n",
        "\n",
        "pr_path = train(model, train_ds=train_ds, val_ds=val_ds, test_ds=test_ds, \n",
        "                     epochs=15,  batch_size=32, add_info='pretrain' )\n"
      ],
      "execution_count": null,
      "outputs": []
    },
    {
      "cell_type": "code",
      "metadata": {
        "id": "oD5PBgskgddB"
      },
      "source": [
        "%tensorboard --logdir {pr_path}"
      ],
      "execution_count": null,
      "outputs": []
    },
    {
      "cell_type": "code",
      "metadata": {
        "id": "XwAshTjogddB"
      },
      "source": [
        "url = \"https://tfhub.dev/google/imagenet/inception_v3/feature_vector/4\"\n",
        "\n",
        "base_model = hub.KerasLayer(url, input_shape=(224, 224, 3))\n",
        "base_model.trainable = False\n",
        "\n",
        "\n",
        "model = keras.Sequential(\n",
        "    [\n",
        "        base_model,\n",
        "        layers.Dense(128, activation= 'relu'),\n",
        "        layers.Dropout(0.5),\n",
        "        layers.Dense(64, activation= 'relu'),\n",
        "        layers.Dropout(0.5),\n",
        "        layers.Dense(32, activation= 'relu'),\n",
        "        layers.Dropout(0.5),\n",
        "        layers.Dense(num_classes, activation='softmax'),\n",
        "    ]\n",
        ")\n",
        "\n",
        "model.compile(\n",
        "    optimizer=keras.optimizers.Adam(),\n",
        "    loss=keras.losses.SparseCategoricalCrossentropy(from_logits=True),\n",
        "    metrics=[\"accuracy\"],\n",
        ")\n",
        "train_ds, val_ds, test_ds = get_augmented_data(train_data=train_dataset, \n",
        "                                               val_data=val_dataset, test_data=test_dataset, batch_size=64)\n",
        "\n",
        "pr_path = train(model, train_ds=train_ds, val_ds=val_ds, test_ds=test_ds, \n",
        "                     epochs=256,  batch_size=64, add_info='pretrainNonFreeze' )"
      ],
      "execution_count": null,
      "outputs": []
    },
    {
      "cell_type": "code",
      "metadata": {
        "id": "vfjW_3kngddB"
      },
      "source": [
        "%tensorboard --logdir {pr_path}"
      ],
      "execution_count": null,
      "outputs": []
    },
    {
      "cell_type": "code",
      "metadata": {
        "id": "6kaqNCqDgddB"
      },
      "source": [
        "print(tf.__version__)"
      ],
      "execution_count": null,
      "outputs": []
    },
    {
      "cell_type": "code",
      "metadata": {
        "id": "6py6PqhEgddC"
      },
      "source": [
        ""
      ],
      "execution_count": null,
      "outputs": []
    },
    {
      "cell_type": "code",
      "metadata": {
        "id": "ZjjnX-jcgddC"
      },
      "source": [
        ""
      ],
      "execution_count": null,
      "outputs": []
    },
    {
      "cell_type": "code",
      "metadata": {
        "id": "09sakLdbgddC"
      },
      "source": [
        "def crop_polygon(img, polygon):\n",
        "    maskIm = Image.new('L', (img.shape[1], img.shape[0]), 0)\n",
        "    ImageDraw.Draw(maskIm).polygon(polygon, outline=1, fill=1)\n",
        "    mask = np.array(maskIm)\n",
        "\n",
        "    # assemble new image (uint8: 0-255)\n",
        "    newImArray = np.empty(img.shape,dtype='uint8')\n",
        "\n",
        "    # colors (three first columns, RGB)\n",
        "    newImArray[:,:,:3] = img[:,:,:3]\n",
        "\n",
        "    # transparency (4th column)\n",
        "    newImArray[:,:,3] = mask*255\n",
        "    return newImArray"
      ],
      "execution_count": null,
      "outputs": []
    },
    {
      "cell_type": "code",
      "metadata": {
        "id": "DGfVL6GlgddC"
      },
      "source": [
        "def crop_box(img, xmin, ymin, xmax, ymax):\n",
        "    crop_img = img[ymin:ymax, xmin:xmax]\n",
        "    return crop_img"
      ],
      "execution_count": null,
      "outputs": []
    },
    {
      "cell_type": "code",
      "metadata": {
        "id": "fQEez2tsgddC"
      },
      "source": [
        "def load_image(path):\n",
        "    img = mpimg.imread(path)\n",
        "    \n",
        "    if img.shape[2] == 3:\n",
        "        newImArray = np.empty(\n",
        "            (img.shape[0],img.shape[1],img.shape[2]+1),\n",
        "            dtype='uint8')\n",
        "        newImArray[:,:,:3] = img[:,:,:]\n",
        "        newImArray[:,:,3] = 255\n",
        "        result = newImArray\n",
        "    else:\n",
        "         result = img\n",
        "            \n",
        "    return result\n",
        "\n",
        "\n",
        "def show_image(img):\n",
        "    imgplot = plt.imshow(img)\n",
        "    plt.show()\n",
        "\n",
        "def show_images_side_by_side(img1, img2):\n",
        "    _, axarr = plt.subplots(1,2)\n",
        "    axarr[0].imshow(img1)\n",
        "    axarr[1].imshow(img2)\n",
        "    plt.show()"
      ],
      "execution_count": null,
      "outputs": []
    },
    {
      "cell_type": "code",
      "metadata": {
        "id": "-G5NPqacgddD"
      },
      "source": [
        "def prepare_urls(path):\n",
        "    for root, dirs, files in os.walk(path):\n",
        "        for filename in files:\n",
        "            pol_path = os.path.join(root, filename)\n",
        "            with open(pol_path,'r') as jsonFile:\n",
        "                data = json.load(jsonFile) \n",
        "            data['path'] = make_url_relative(data['path'])\n",
        "            with open(pol_path,'w') as jsonFile:\n",
        "                json.dump(data, jsonFile)\n",
        "\n",
        "\n",
        "def make_url_relative(url):\n",
        "    return url[url.index('train'):]\n",
        "\n",
        "\n",
        "def get_categories(labels_path): \n",
        "    categories = {}\n",
        "    for root, dirs, files in os.walk(labels_path):\n",
        "        for filename in files:\n",
        "            file = open(os.path.join(root, filename),)\n",
        "            data = json.load(file)\n",
        "            data = data['outputs']\n",
        "            if data == {}:\n",
        "                print(os.path.join(root, filename))\n",
        "                category_set = {\"NO_CATEGORY\"}\n",
        "            else:\n",
        "                category_set = set([x['name'] for x in data['object']])\n",
        "            for current in category_set:\n",
        "                if current in categories:\n",
        "                    categories[current] = categories[current]+ 1 \n",
        "                else:\n",
        "                    categories[current] = 1\n",
        "    sorted_cat= sorted(categories.items(), key=lambda x: x[1], reverse=True)\n",
        "    return sorted_cat\n",
        "\n",
        "\n",
        "def get_categories_with_images(dataset_path): \n",
        "    labels_path = os.path.join(dataset_path, 'labels')\n",
        "    categories = {}\n",
        "    for root, dirs, files in os.walk(labels_path):\n",
        "        for filename in files:\n",
        "            file = open(os.path.join(root, filename),)\n",
        "            data = json.load(file)\n",
        "            outputs = data['outputs']\n",
        "            if outputs == {}:\n",
        "                category_set = {\"NO_CATEGORY\"}\n",
        "            else:\n",
        "                category_set = set([x['name'] for x in outputs['object']])\n",
        "            for current in category_set:\n",
        "                if current in categories:\n",
        "                    categories[current] = categories[current]+ 1 \n",
        "                else:\n",
        "                    categories[current] = 1\n",
        "                    print(current)\n",
        "                    show_image(load_image(os.path.join(dataset_path,data['path'])))\n",
        "                    \n",
        "    sorted_cat= sorted(categories.items(), key=lambda x: x[1], reverse=True)\n",
        "    return sorted_cat"
      ],
      "execution_count": null,
      "outputs": []
    },
    {
      "cell_type": "code",
      "metadata": {
        "scrolled": true,
        "id": "UMLAFev5gddD"
      },
      "source": [
        "def process_file_image(label_path):\n",
        "    jsonFile = open(label_path,)\n",
        "    pdata = json.load(jsonFile)\n",
        "    image_path = os.path.join(os.getcwd(), pdata['path'])\n",
        "    img = load_image(image_path)\n",
        "    show_image(img)\n",
        "    pdata = pdata['outputs']['object']\n",
        "    for obj in pdata:\n",
        "        print(obj)\n",
        "        if 'polygon' in obj:\n",
        "            polygon_data = obj['polygon']\n",
        "            i = 1\n",
        "            res = []\n",
        "            while 'x'+str(i) in polygon_data:\n",
        "                res.append((polygon_data['x'+str(i)], polygon_data['y'+str(i)]))\n",
        "                i += 1\n",
        "            cropped = crop_polygon(img, res)\n",
        "\n",
        "        elif 'bndbox' in obj:\n",
        "            box_data = obj['bndbox']\n",
        "            cropped = crop_box(img,box_data['xmin'], box_data['ymin'], box_data['xmax'], box_data['ymax'])\n",
        "        \n",
        "        show_image(cropped)\n"
      ],
      "execution_count": null,
      "outputs": []
    },
    {
      "cell_type": "code",
      "metadata": {
        "id": "a8hdtv36gddD"
      },
      "source": [
        "def process_file_bound(label_path):\n",
        "    jsonFile = open(label_path,)\n",
        "    pdata = json.load(jsonFile)\n",
        "    image_path = os.path.join(os.getcwd(), pdata['path'])\n",
        "    img = load_image(image_path)\n",
        "    show_image(img)\n",
        "    \n",
        "    pdata = pdata['outputs']['object']\n",
        "    for obj in pdata:\n",
        "        print(obj)\n",
        "        if 'polygon' in obj:\n",
        "            polygon_data = obj['polygon']\n",
        "            i = 1\n",
        "            polygon_coordinates = []\n",
        "            while 'x'+str(i) in polygon_data:\n",
        "                polygon_coordinates.append((polygon_data['x'+str(i)], polygon_data['y'+str(i)]))\n",
        "                i += 1\n",
        "                \n",
        "            xmin = round(min(polygon_coordinates, key = lambda t: t[0])[0])\n",
        "            xmax = round(max(polygon_coordinates, key = lambda t: t[0])[0])\n",
        "            ymin = round(min(polygon_coordinates, key = lambda t: t[1])[1])\n",
        "            ymax = round(max(polygon_coordinates, key = lambda t: t[1])[1])\n",
        "            print(\"xmin\", xmin)\n",
        "            print(\"xmax\", xmax)\n",
        "            print(\"ymin\", ymin)\n",
        "            print(\"ymax\", ymax)  \n",
        "\n",
        "            croppedPolygon = crop_polygon(img, polygon_coordinates)\n",
        "            croppedBox = crop_box(img, xmin, ymin, xmax, ymax)\n",
        "        \n",
        "        elif 'bndbox' in obj:\n",
        "            box_data = obj['bndbox']\n",
        "            xmin =  box_data['xmin']\n",
        "            xmax =  box_data['xmax']\n",
        "            ymin = box_data['ymin']\n",
        "            ymax = box_data['ymax']\n",
        "            \n",
        "            polygon_coordinates = [(xmin, ymin), (xmin, ymax), (xmax,ymax), (xmax, ymin)]\n",
        "            croppedPolygon = crop_polygon(img, polygon_coordinates)\n",
        "            croppedBox = crop_box(img, xmin, ymin, xmax, ymax)\n",
        "        \n",
        "        print(\"Polygon\")\n",
        "        show_image(croppedPolygon)\n",
        "        print(\"Box\")\n",
        "        show_image(croppedBox)\n",
        "        "
      ],
      "execution_count": null,
      "outputs": []
    },
    {
      "cell_type": "code",
      "metadata": {
        "scrolled": true,
        "id": "obH2Z8pwgddE"
      },
      "source": [
        "lbox = r'C:\\Users\\VsevolodSlavinskyi\\Desktop\\Data\\Diploma\\Project\\Data\\new_data\\labels\\repair\\20190102--200419_SR5_94a2febe-b7d0-408c-9fad-b8c460edf2f5_398D3840-8778-49BF-8B82-45A6073944E2.json'\n",
        "lpolygon = r'C:\\Users\\VsevolodSlavinskyi\\Desktop\\Data\\Diploma\\Project\\Data\\new_data\\labels\\replacement\\20190502--191849_Orlando Tech_f3f76d40-80d9-4324-87fc-305c89d2e9b8_7709FF88-EECE-40E7-B64B-8D256FB9D0DA.json'\n",
        "process_file_new(lbox)\n",
        "process_file_new(lpolygon)\n"
      ],
      "execution_count": null,
      "outputs": []
    },
    {
      "cell_type": "code",
      "metadata": {
        "id": "5z7PanPXgddF"
      },
      "source": [
        "labels_path = r'C:\\Users\\VsevolodSlavinskyi\\Desktop\\Data\\Diploma\\Project\\Data\\auto_cracks_dataset\\auto_cracks\\labels'\n",
        "dataset_path =  r'C:\\Users\\VsevolodSlavinskyi\\Desktop\\Data\\Diploma\\Project\\Data\\auto_cracks_dataset\\auto_cracks'"
      ],
      "execution_count": null,
      "outputs": []
    },
    {
      "cell_type": "code",
      "metadata": {
        "id": "fq6G7ZGvgddF"
      },
      "source": [
        "cats = get_categories_with_images(dataset_path)\n"
      ],
      "execution_count": null,
      "outputs": []
    },
    {
      "cell_type": "code",
      "metadata": {
        "scrolled": true,
        "id": "8nr9n_NbgddF"
      },
      "source": [
        "cats"
      ],
      "execution_count": null,
      "outputs": []
    },
    {
      "cell_type": "code",
      "metadata": {
        "id": "xO7GOgxZgddG"
      },
      "source": [
        "old_data_path = r'C:\\Users\\VsevolodSlavinskyi\\Desktop\\Data\\Diploma\\FIG-Recognition-Engine\\my_dataset\\batch_data_full_224'"
      ],
      "execution_count": null,
      "outputs": []
    },
    {
      "cell_type": "code",
      "metadata": {
        "id": "wprNyf0dgddG"
      },
      "source": [
        " with open(os.path.join(old_data_path, 'dataset_metadata.json'),'r') as jsonFile:\n",
        "    data = json.load(jsonFile) \n",
        "    print(len(data), type(data))\n",
        "    non_empty_data = [x for x in data if x['coordinates']['height'] != 0]\n",
        "    print(len(non_empty_data), type(non_empty_data))"
      ],
      "execution_count": null,
      "outputs": []
    },
    {
      "cell_type": "code",
      "metadata": {
        "id": "x9ini9BsgddG"
      },
      "source": [
        "item = non_empty_data[0]\n",
        "item"
      ],
      "execution_count": null,
      "outputs": []
    },
    {
      "cell_type": "code",
      "metadata": {
        "id": "4b-znsMkgddG"
      },
      "source": [
        "for item in non_empty_data[::10]:\n",
        "    print(item['label'])\n",
        "    img = load_image(os.path.join(old_data_path,'train',item['fileName']))\n",
        "    coord = item['coordinates']\n",
        "    croppedBox = crop_box(img,round(coord['x']),round(coord['y']),round(coord['x']) + coord['width'],round(coord['y']) + coord['height'])\n",
        "\n",
        "    show_images_side_by_side(img,croppedBox)\n",
        "    print('_____________________________')"
      ],
      "execution_count": null,
      "outputs": []
    },
    {
      "cell_type": "code",
      "metadata": {
        "id": "mo8nFN3zgddH"
      },
      "source": [
        ""
      ],
      "execution_count": null,
      "outputs": []
    },
    {
      "cell_type": "code",
      "metadata": {
        "id": "XDDwvRAsgddH"
      },
      "source": [
        ""
      ],
      "execution_count": null,
      "outputs": []
    }
  ]
}